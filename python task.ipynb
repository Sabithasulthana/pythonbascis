{
 "cells": [
  {
   "cell_type": "code",
   "execution_count": 7,
   "id": "240dd7d5-46c1-4ec5-99bb-2a3655951f3c",
   "metadata": {},
   "outputs": [
    {
     "name": "stdout",
     "output_type": "stream",
     "text": [
      "[1, 2, 3, 5, 6, 7]\n"
     ]
    }
   ],
   "source": [
    "#1\n",
    "list1=[1,2,3,5,5,6,7]\n",
    "list1=[x for i , x in \n",
    "enumerate(list1) if x not in \n",
    "list1[:i]]\n",
    "print(list1)"
   ]
  },
  {
   "cell_type": "code",
   "execution_count": 1,
   "id": "681d1e00-b40b-4e85-91bb-e741578a4dc1",
   "metadata": {},
   "outputs": [
    {
     "name": "stdout",
     "output_type": "stream",
     "text": [
      "[(1, 'a'), (2, 'b'), (3, 'c')]\n"
     ]
    }
   ],
   "source": [
    "#4 zip function is used for combine 2 or more lisis into a list of tuples\n",
    "list1=[1,2,3]\n",
    "list2=['a','b','c']\n",
    "zipped_list=list(zip(list1,list2))\n",
    "print(zipped_list)\n"
   ]
  },
  {
   "cell_type": "code",
   "execution_count": 5,
   "id": "05b70726-5395-4f9d-b65f-4fc08e8c34b4",
   "metadata": {},
   "outputs": [
    {
     "name": "stdout",
     "output_type": "stream",
     "text": [
      "how are you\n"
     ]
    }
   ],
   "source": [
    "#5\n",
    "x=['how','are you']\n",
    "y=' '.join(x)\n",
    "print(y)"
   ]
  },
  {
   "cell_type": "code",
   "execution_count": 7,
   "id": "ee80b113-21c5-44b1-970f-d0159f6fa1ac",
   "metadata": {},
   "outputs": [
    {
     "name": "stdout",
     "output_type": "stream",
     "text": [
      "      *\n",
      "     ***\n",
      "    *****\n",
      "   *******\n",
      "  *********\n",
      " ***********\n",
      "*************\n"
     ]
    }
   ],
   "source": [
    "#6\n",
    "for i in range(7):\n",
    "    print(' '*(6-i)+'*'*(2*i+1))"
   ]
  },
  {
   "cell_type": "code",
   "execution_count": 9,
   "id": "9242af45-22c7-430e-b404-e16a6941290a",
   "metadata": {},
   "outputs": [
    {
     "name": "stdout",
     "output_type": "stream",
     "text": [
      "1110\n"
     ]
    }
   ],
   "source": [
    "#7\n",
    "def add_numbers(x,y):\n",
    "    return x+y\n",
    "print(add_numbers(234,876))"
   ]
  },
  {
   "cell_type": "code",
   "execution_count": 12,
   "id": "3e0d7fb0-b1f8-451c-bd06-511663d91096",
   "metadata": {},
   "outputs": [
    {
     "name": "stdout",
     "output_type": "stream",
     "text": [
      "Equilateral\n",
      "Isosceles\n",
      "Scalene\n"
     ]
    }
   ],
   "source": [
    "#8\n",
    "def triangle_type(a,b,c):\n",
    "    if a==b==c:\n",
    "        return 'Equilateral'\n",
    "    elif a==b or b==c or a==c:\n",
    "        return 'Isosceles'\n",
    "    else:\n",
    "        return 'Scalene'\n",
    "print(triangle_type(7,7,7))\n",
    "print(triangle_type(7,7,5))\n",
    "print(triangle_type(7,5,3))\n",
    "      \n",
    "        "
   ]
  },
  {
   "cell_type": "code",
   "execution_count": null,
   "id": "aa0d076a-b0fc-4e19-98e1-f5c7c77b6af9",
   "metadata": {},
   "outputs": [],
   "source": []
  }
 ],
 "metadata": {
  "kernelspec": {
   "display_name": "Python 3 (ipykernel)",
   "language": "python",
   "name": "python3"
  },
  "language_info": {
   "codemirror_mode": {
    "name": "ipython",
    "version": 3
   },
   "file_extension": ".py",
   "mimetype": "text/x-python",
   "name": "python",
   "nbconvert_exporter": "python",
   "pygments_lexer": "ipython3",
   "version": "3.12.7"
  }
 },
 "nbformat": 4,
 "nbformat_minor": 5
}
